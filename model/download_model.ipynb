{
 "cells": [
  {
   "cell_type": "code",
   "execution_count": null,
   "metadata": {},
   "outputs": [],
   "source": [
    "#下载模型\n",
    "from modelscope import snapshot_download\n",
    "\n",
    "# 第一次下载时打开\n",
    "model_dir = snapshot_download('Qwen/Qwen2-1.5B-Instruct',cache_dir='./')"
   ]
  }
 ],
 "metadata": {
  "language_info": {
   "name": "python"
  }
 },
 "nbformat": 4,
 "nbformat_minor": 2
}
